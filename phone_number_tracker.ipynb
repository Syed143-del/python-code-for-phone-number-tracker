{
 "cells": [
  {
   "cell_type": "code",
   "execution_count": null,
   "id": "63193303",
   "metadata": {},
   "outputs": [],
   "source": [
    "#python code for the mobile tracking and the current location\n",
    "\n",
    "import phonenumbers\n",
    "from phonenumbers import timezone,geocoder,carrier\n",
    "number=input(\"Enter your No. with +__: \")\n",
    "phone=phonenumbers.parse(number)\n",
    "time=timezone.time_zones_for_number(phone)\n",
    "car=carrier.name_for_number(phone,\"en\")\n",
    "reg=geocoder.description_for_number(phone,\"en\")\n",
    "print(phone)\n",
    "print(time)\n",
    "print(car)\n",
    "print(reg)\n"
   ]
  }
 ],
 "metadata": {
  "kernelspec": {
   "display_name": "Python 3",
   "language": "python",
   "name": "python3"
  },
  "language_info": {
   "codemirror_mode": {
    "name": "ipython",
    "version": 3
   },
   "file_extension": ".py",
   "mimetype": "text/x-python",
   "name": "python",
   "nbconvert_exporter": "python",
   "pygments_lexer": "ipython3",
   "version": "3.8.8"
  }
 },
 "nbformat": 4,
 "nbformat_minor": 5
}
